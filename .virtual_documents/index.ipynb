




















# Your code here
import pandas as pd 
import matplotlib.pyplot as plt
import numpy as np
%matplotlib inline

diamonds = pd.read_csv('diamonds.csv', index_col=0)


diamonds.shape





# Run this cell without changes

# diamonds should be a dataframe
assert type(diamonds) == pd.DataFrame

# Check that there are the correct number of rows
assert diamonds.shape[0] == 53940

# Check that there are the correct number of columns
# (if this crashes, make sure you specified `index_col=0`)
assert diamonds.shape[1] == 10





# Run this cell without changes
diamonds.describe()





# Run this cell without changes
categoricals = diamonds.select_dtypes("object")

for col in categoricals:
    print(diamonds[col].value_counts(), "\n")





# Your code here - look at correlations
numerics = diamonds.select_dtypes(include = [np.number])


correlation = numerics.corr()
correlation_with_price = correlation["price"].drop("price")





# Replace None with appropriate code
most_correlated = correlation_with_price.idxmax()
most_correlated





# Run this cell without changes

# most_correlated should be a string
assert type(most_correlated) == str

# most_correlated should be one of the columns other than price
assert most_correlated in diamonds.drop("price", axis=1).columns





# Run this cell without changes

# Plot a sample of 1000 data points, most_correlated vs. price
diamonds.sample(1000, random_state=1).plot.scatter(x=most_correlated, y="price");





# Replace None with appropriate code
y = diamonds["price"]
X_baseline = diamonds[[most_correlated]]





# Run this code without changes

# y should be a series
assert type(y) == pd.Series

# y should contain about 54k rows
assert y.shape == (53940,)

# X_baseline should be a DataFrame
assert type(X_baseline) == pd.DataFrame

# X_baseline should contain the same number of rows as y
assert X_baseline.shape[0] == y.shape[0]

# X_baseline should have 1 column
assert X_baseline.shape[1] == 1





# Run this cell without changes
import statsmodels.api as sm

baseline_model = sm.OLS(y, sm.add_constant(X_baseline))
baseline_results = baseline_model.fit()





# Your code here
print(baseline_results.summary())





# Your written answer here
print("This model is clearly highly significant. The carat is indeed a strong predictor in diamond price which explains the large percentage in variance in price, 84.9%.")








# Run this code without changes
import matplotlib.pyplot as plt

categorical_features = diamonds.select_dtypes("object").columns
fig, axes = plt.subplots(ncols=len(categorical_features), figsize=(12,5))
for index, feature in enumerate(categorical_features):
    diamonds.groupby(feature).mean().plot.bar(
        y="price", ax=axes[index])





# Replace None with appropriate code
cat_col = 'cut'





# Run this cell without changes

# cat_col should be a string
assert type(cat_col) == str

# cat_col should be one of the categorical columns
assert cat_col in diamonds.select_dtypes("object").columns





# Run this cell without changes
X_iterated = diamonds[[most_correlated, cat_col]]
X_iterated





# Replace None with appropriate code

# Use pd.get_dummies to one-hot encode the categorical column in X_iterated
X_iterated = pd.get_dummies(X_iterated, columns=[cat_col])
X_iterated





# Run this cell without changes

# X_iterated should be a dataframe
assert type(X_iterated) == pd.DataFrame

# You should have the number of unique values in one of the
# categorical columns + 1 (representing the numeric predictor)
valid_col_nums = diamonds.select_dtypes("object").nunique() + 1

# Check that there are the correct number of columns
# (if this crashes, make sure you did not use `drop_first=True`)
assert X_iterated.shape[1] in valid_col_nums.values





# Your code here
X_iterated = X_iterated.drop('cut_Fair', axis=1)





# Your code here





# Run this cell without changes

# Check that there are the correct number of columns
assert X_iterated.shape[1] in (valid_col_nums - 1).values





# Your code here
iterated_model = sm.OLS(y, sm.add_constant(X_iterated))
iterated_results = iterated_model.fit()





# Run this cell without changes
print(iterated_results.summary())





# Your written answer here



